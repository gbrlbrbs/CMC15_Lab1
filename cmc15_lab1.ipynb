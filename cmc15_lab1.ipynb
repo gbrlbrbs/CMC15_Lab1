{
 "cells": [
  {
   "cell_type": "markdown",
   "metadata": {},
   "source": [
    "# CMC-15 - Lab 1\n",
    "\n",
    "Gabriel Martinz e Marina Moreira"
   ]
  },
  {
   "cell_type": "markdown",
   "metadata": {},
   "source": [
    "Importando pacotes:"
   ]
  },
  {
   "cell_type": "code",
   "execution_count": 20,
   "metadata": {},
   "outputs": [],
   "source": [
    "from constants import *\n",
    "from math import sqrt, cos, sin, exp\n",
    "import random\n",
    "from typing import Tuple, Union, List, Callable\n",
    "import heapq\n",
    "import numpy as np\n",
    "import matplotlib.pyplot as plt\n",
    "from matplotlib.colors import ListedColormap"
   ]
  },
  {
   "cell_type": "markdown",
   "metadata": {},
   "source": [
    "## Questão 1\n",
    "\n",
    "Inicializando o mapa:"
   ]
  },
  {
   "cell_type": "code",
   "execution_count": 2,
   "metadata": {},
   "outputs": [],
   "source": [
    "table = np.ones((HEIGHT, WIDTH))"
   ]
  },
  {
   "cell_type": "code",
   "execution_count": 3,
   "metadata": {},
   "outputs": [],
   "source": [
    "table[OBSTACLES] = -1.0"
   ]
  },
  {
   "cell_type": "code",
   "execution_count": 4,
   "metadata": {},
   "outputs": [],
   "source": [
    "unaccesible_cells = table < 0.0"
   ]
  },
  {
   "cell_type": "markdown",
   "metadata": {},
   "source": [
    "Funções auxiliares para checar índices e sucessores"
   ]
  },
  {
   "cell_type": "code",
   "execution_count": 5,
   "metadata": {},
   "outputs": [],
   "source": [
    "def is_index_valid(i: int, j: int):\n",
    "    return 0 <= i < HEIGHT and 0 <= j < WIDTH\n",
    "\n",
    "def get_successors(i: int, j: int):\n",
    "    if i < 0 or j < 0:\n",
    "        raise ValueError(\"Invalid indexes\")\n",
    "    successors = []\n",
    "    for di in range(-1, 2):\n",
    "        for dj in range(-1, 2):\n",
    "            if (di != 0 and dj != 0) or (di == 0 and dj == 0):\n",
    "                continue\n",
    "            if is_index_valid(i + di, j + dj) and not unaccesible_cells[i + di, j + dj]:\n",
    "                successors.append((i + di, j + dj))\n",
    "    return successors"
   ]
  },
  {
   "cell_type": "markdown",
   "metadata": {},
   "source": [
    "Classe de nós para guardar $f(n)$, $g(n)$, se o nó já foi fechado e seu nó pai"
   ]
  },
  {
   "cell_type": "code",
   "execution_count": 6,
   "metadata": {},
   "outputs": [],
   "source": [
    "class Node:\n",
    "    def __init__(self, i: int, j: int):\n",
    "        \"\"\"\n",
    "        Creates a node of a graph used for planning paths.\n",
    "\n",
    "        :param i: row of the node in the occupancy grid.\n",
    "        :type i: int.\n",
    "        :param j: column of the node in the occupancy grid.\n",
    "        :type j: int.\n",
    "        \"\"\"\n",
    "        self.i = i\n",
    "        self.j = j\n",
    "        self.f = np.inf\n",
    "        self.g = np.inf\n",
    "        self.closed = False\n",
    "        self.parent: Union[Node, None] = None\n",
    "\n",
    "    def get_position(self) -> Tuple[int, int]:\n",
    "        \"\"\"\n",
    "        Obtains the position of the node as a tuple.\n",
    "\n",
    "        :return: (i, j) where i is the row and the column of the node, respectively.\n",
    "        :rtype: 2-dimensional tuple of int.\n",
    "        \"\"\"\n",
    "        return self.i, self.j\n",
    "\n",
    "    def set_position(self, i, j):\n",
    "        \"\"\"\n",
    "        Sets the position of this node.\n",
    "\n",
    "        :param i: row of the node in the occupancy grid.\n",
    "        :type i: int.\n",
    "        :param j: column of the node in the occupancy grid.\n",
    "        :type j: int.\n",
    "        \"\"\"\n",
    "        self.i = i\n",
    "        self.j = j\n",
    "\n",
    "    def distance_to(self, i: int, j: int) -> float:\n",
    "        \"\"\"\n",
    "        Computes the distance from this node to the position (i, j).\n",
    "\n",
    "        :param i: row of the target position.\n",
    "        :type i: int.\n",
    "        :param j: column of the target position.\n",
    "        :type j: int.\n",
    "        :return: distance from this node to (i, j).\n",
    "        :rtype: float.\n",
    "        \"\"\"\n",
    "        return sqrt((self.i - i) ** 2 + (self.j - j) ** 2)\n",
    "\n",
    "    # for node < another_node\n",
    "    def __lt__(self, another_node):\n",
    "        return (self.i < another_node.i) or (self.j < another_node.j)"
   ]
  },
  {
   "cell_type": "markdown",
   "metadata": {},
   "source": [
    "Grid de nós"
   ]
  },
  {
   "cell_type": "code",
   "execution_count": 7,
   "metadata": {},
   "outputs": [],
   "source": [
    "node_grid = np.empty(table.shape, dtype=Node)\n",
    "for i in range(table.shape[0]):\n",
    "    for j in range(table.shape[1]):\n",
    "        node_grid[i, j] = Node(i, j)"
   ]
  },
  {
   "cell_type": "markdown",
   "metadata": {},
   "source": [
    "Funções auxiliares para construir o caminho inverso e para calcular o custo de movimento"
   ]
  },
  {
   "cell_type": "code",
   "execution_count": 8,
   "metadata": {},
   "outputs": [],
   "source": [
    "def get_edge_cost(node: Node, successor: Node) -> float:\n",
    "    return (table[node.get_position()] + table[successor.get_position()]) / 2.0\n",
    "\n",
    "def reconstruct_path(end_node: Node):\n",
    "    node = end_node\n",
    "    reversed_path = []\n",
    "    while node is not None:\n",
    "        reversed_path.append(node.get_position())\n",
    "        node = node.parent\n",
    "    return reversed_path[::-1]"
   ]
  },
  {
   "cell_type": "markdown",
   "metadata": {},
   "source": [
    "Algoritmo $A^*$"
   ]
  },
  {
   "cell_type": "code",
   "execution_count": 9,
   "metadata": {},
   "outputs": [],
   "source": [
    "def a_star(start_position: Tuple[int, int], end_position: Tuple[int, int], node_grid: np.ndarray):\n",
    "    node: Node = node_grid[start_position]\n",
    "    node.g = 0\n",
    "    node.f = node.g + node.distance_to(*end_position)\n",
    "    pq: List[Tuple[float, Node]] = []\n",
    "    heapq.heappush(pq, (node.f, node))\n",
    "\n",
    "    while pq:\n",
    "        (f, node) = heapq.heappop(pq)\n",
    "        if not node.closed:\n",
    "            node.closed = True\n",
    "            \n",
    "            if end_position == node.get_position():\n",
    "                break\n",
    "            \n",
    "            for successor_t in get_successors(node.i, node.j):\n",
    "                successor: Node = node_grid[successor_t]\n",
    "                if successor.f > node.g + get_edge_cost(node, successor) + successor.distance_to(*end_position):\n",
    "                    successor.g = node.g + get_edge_cost(node, successor)\n",
    "                    successor.f = successor.g + successor.distance_to(*end_position)\n",
    "                    successor.parent = node\n",
    "                    heapq.heappush(pq, (successor.f, successor))\n",
    "\n",
    "    end_node: Node = node_grid[end_position]\n",
    "\n",
    "    return reconstruct_path(end_node), end_node.g"
   ]
  },
  {
   "cell_type": "code",
   "execution_count": 10,
   "metadata": {},
   "outputs": [],
   "source": [
    "path, g = a_star((0, 0), (20, 23), node_grid)"
   ]
  },
  {
   "cell_type": "markdown",
   "metadata": {},
   "source": [
    "Marcando as caixinhas do caminho ótimo na tabela"
   ]
  },
  {
   "cell_type": "code",
   "execution_count": 11,
   "metadata": {},
   "outputs": [],
   "source": [
    "for tup in path:\n",
    "    table[tup] += 1"
   ]
  },
  {
   "cell_type": "code",
   "execution_count": 31,
   "metadata": {},
   "outputs": [
    {
     "data": {
      "text/plain": [
       "<matplotlib.image.AxesImage at 0x7f1636dee230>"
      ]
     },
     "execution_count": 31,
     "metadata": {},
     "output_type": "execute_result"
    },
    {
     "data": {
      "image/png": "[encoded data removed]",
      "text/plain": [
       "<Figure size 640x480 with 1 Axes>"
      ]
     },
     "metadata": {},
     "output_type": "display_data"
    }
   ],
   "source": [
    "fig = plt.figure()\n",
    "ax = fig.add_subplot(111)\n",
    "\n",
    "ax.set_yticks([0, 5, 10, 15, 20])\n",
    "ax.imshow(table, aspect='auto', cmap=plt.cm.gray, interpolation='nearest')"
   ]
  },
  {
   "cell_type": "markdown",
   "metadata": {},
   "source": [
    "## Questão 2"
   ]
  },
  {
   "cell_type": "code",
   "execution_count": 2,
   "metadata": {},
   "outputs": [],
   "source": [
    "from constraint import *\n",
    "import numpy as np\n",
    "\n",
    "# Setup Problem\n",
    "problem = Problem()"
   ]
  },
  {
   "cell_type": "code",
   "execution_count": 3,
   "metadata": {},
   "outputs": [],
   "source": [
    "# Setup board\n",
    "N = 7\n",
    "board = np.zeros((N, N))"
   ]
  },
  {
   "cell_type": "markdown",
   "metadata": {},
   "source": [
    "LEGEND FOR THE SETUP OF THE BLACK BOXES:\n",
    "\n",
    "- number 5 indicates a black box without number on top (number 0 was already being used to indicated if a white cell has a light on it or not)\n",
    "\n",
    "- number 6 indicates a black box with 0 on top, meaning 0 lights surrounds it (number 0 was already being used to indicated if a white cell has a light on it or not)\n",
    "\n",
    "- number 7 indicates a black box with 1 on top, meaning 1 light surround it (number 1 was already being used to indicated if a white cell has a light on it or not)\n",
    "\n",
    "- number 2 indicates a black box with 2 on top, meaning 2 lights surround it\n",
    "\n",
    "- number 3 indicates a black box with 3 on top, meaning 3 lights surround it\n"
   ]
  },
  {
   "cell_type": "markdown",
   "metadata": {},
   "source": [
    "## Test boards available\n",
    "- Orientation: run only the board you want to play with in that round\n"
   ]
  },
  {
   "cell_type": "code",
   "execution_count": 8,
   "metadata": {},
   "outputs": [],
   "source": [
    "# Board 1\n",
    "# board[1][3] = 6\n",
    "# board[1][4] = 2\n",
    "\n",
    "# board[2][1] = 7\n",
    "\n",
    "# board[3][1] = 6\n",
    "# board[3][5] = 6\n",
    "\n",
    "# board[4][5] = 5\n",
    "\n",
    "# board[5][2] = 5\n",
    "# board[5][3] = 3"
   ]
  },
  {
   "cell_type": "code",
   "execution_count": 17,
   "metadata": {},
   "outputs": [],
   "source": [
    "# Board 2\n",
    "# board[0][2] = 6\n",
    "# board[0][5] = 5\n",
    "\n",
    "# board[1][0] = 5\n",
    "# board[1][4] = 5\n",
    "\n",
    "# board[2][1] = 2\n",
    "# board[2][6] = 6\n",
    "\n",
    "# board[3][3] = 7\n",
    "\n",
    "# board[4][0] = 7\n",
    "# board[4][5] = 5\n",
    "\n",
    "# board[5][2] = 7\n",
    "# board[5][6] = 3\n",
    "\n",
    "# board[6][1] = 6\n",
    "# board[6][4] = 5"
   ]
  },
  {
   "cell_type": "code",
   "execution_count": 4,
   "metadata": {},
   "outputs": [],
   "source": [
    "# Board 3\n",
    "board[0][3] = 2\n",
    "\n",
    "board[1][2] = 5\n",
    "board[1][4] = 7\n",
    "\n",
    "board[2][1] = 5\n",
    "board[2][5] = 6\n",
    "\n",
    "board[3][0] = 6\n",
    "board[3][3] = 3\n",
    "board[3][6] = 5\n",
    "\n",
    "board[4][1] = 7\n",
    "board[4][5] = 2\n",
    "\n",
    "board[5][2] = 5\n",
    "board[5][4] = 5\n",
    "\n",
    "board[6][3] = 7"
   ]
  },
  {
   "cell_type": "markdown",
   "metadata": {},
   "source": [
    "## Funções auxiliares da CONSTRAINT 1\n"
   ]
  },
  {
   "cell_type": "code",
   "execution_count": 5,
   "metadata": {},
   "outputs": [],
   "source": [
    "def verifyLeftBox(board, position):\n",
    "    # check column\n",
    "    if position[1] > 0:\n",
    "        if board[position[0]][position[1] - 1] == 0:\n",
    "            return True  # Empty box\n",
    "        else:\n",
    "            return False  # Black box\n",
    "    # If its out of index\n",
    "    else:\n",
    "        return False\n",
    "\n",
    "\n",
    "def verifyUpperBox(board, position):\n",
    "    # check row\n",
    "    if position[0] > 0:\n",
    "        if board[position[0] - 1][position[1]] == 0:\n",
    "            return True  # Empty box\n",
    "        else:\n",
    "            return False  # Black box\n",
    "    # If its out of index\n",
    "    else:\n",
    "        return False\n",
    "\n",
    "\n",
    "def verifyRightBox(board, position):\n",
    "    # check column N is board size\n",
    "    if position[1] + 1 < N:\n",
    "        if board[position[0]][position[1] + 1] == 0:\n",
    "            return True  # Empty box\n",
    "        else:\n",
    "            return False  # Black box\n",
    "    # If its out of index\n",
    "    else:\n",
    "        return False\n",
    "\n",
    "\n",
    "def verifyBottomBox(board, position):\n",
    "    # check row N is board size\n",
    "    if position[0] + 1 < N:\n",
    "        if board[position[0] + 1][position[1]] == 0:\n",
    "            return True  # Empty box\n",
    "        else:\n",
    "            return False  # Black box\n",
    "    # If its out of index\n",
    "    else:\n",
    "        return False\n",
    "\n",
    "\n",
    "def addNumberedBlackBoxAConstraint(board):\n",
    " for i in range(N):\n",
    "      for j in range(N):\n",
    "           if board[i][j] != 0 and board[i][j] != 5:\n",
    "                availableBulb = []\n",
    "                if verifyLeftBox(board, [i, j]):\n",
    "                    availableBulb.append(\"x%i%s\" % (i, j - 1))\n",
    "                if verifyUpperBox(board, [i, j]):\n",
    "                    availableBulb.append(\"x%i%s\" % (i - 1, j))\n",
    "                if verifyRightBox(board, [i, j]):\n",
    "                    availableBulb.append(\"x%i%s\" % (i, j + 1))\n",
    "                if verifyBottomBox(board, [i, j]):\n",
    "                    availableBulb.append(\"x%i%s\" % (i + 1, j))\n",
    "                # Add the sum constraint\n",
    "                if board[i][j] == 6:\n",
    "                    problem.addConstraint(ExactSumConstraint(0), availableBulb)\n",
    "                elif board[i][j] == 7:\n",
    "                    problem.addConstraint(ExactSumConstraint(1), availableBulb)\n",
    "                else:\n",
    "                    problem.addConstraint(ExactSumConstraint(board[i][j]), availableBulb)"
   ]
  },
  {
   "cell_type": "markdown",
   "metadata": {},
   "source": [
    "## Funções auxiliares da CONSTRAINT 2\n"
   ]
  },
  {
   "cell_type": "code",
   "execution_count": 6,
   "metadata": {},
   "outputs": [],
   "source": [
    "def addBlockContraint(board):\n",
    "    # Each row block can contain maximum 1 bulb\n",
    "    for i in range(N):\n",
    "        availableBulb = []\n",
    "        for j in range(len(board[i])):\n",
    "            if board[i][j] == 0:\n",
    "                availableBulb.append(\"x%i%s\" % (i, j))\n",
    "            else:\n",
    "                if availableBulb != []:\n",
    "                    problem.addConstraint(MaxSumConstraint(1), availableBulb)\n",
    "                availableBulb = []\n",
    "        if availableBulb != []:\n",
    "            problem.addConstraint(MaxSumConstraint(1), availableBulb)\n",
    "\n",
    "    # Each column block can contain maximum 1 bulb\n",
    "    boardT = board.transpose()\n",
    "    for i in range(N):\n",
    "        availableBulb = []\n",
    "        for j in range(len(boardT[i])):\n",
    "            if boardT[i][j] == 0:\n",
    "                availableBulb.append(\"x%i%s\" % (j, i))\n",
    "            else:\n",
    "                if availableBulb != [] and len(availableBulb) != 1:\n",
    "                    problem.addConstraint(MaxSumConstraint(1), availableBulb)\n",
    "                availableBulb = []\n",
    "        if availableBulb != []:\n",
    "            problem.addConstraint(MaxSumConstraint(1), availableBulb)"
   ]
  },
  {
   "cell_type": "markdown",
   "metadata": {},
   "source": [
    "## Funções auxiliares da CONSTRAINT 3"
   ]
  },
  {
   "cell_type": "code",
   "execution_count": 7,
   "metadata": {},
   "outputs": [],
   "source": [
    "# Light bulbs are initially all the boxes with 0 value\n",
    "def addEachBoxAConstraint(board):\n",
    "    for i in range(N):\n",
    "        for j in range(N):\n",
    "            if board[i][j] == 0:\n",
    "                addSmallestRowConstraint(board, i, j)\n",
    "\n",
    "# gets the position of the first black box in a given row\n",
    "def findSmallestRow(boardRow, j):\n",
    "    smallest = -1\n",
    "    for i in range(N):\n",
    "        if boardRow[i] != 0 and j > i:\n",
    "            smallest = i\n",
    "\n",
    "    return smallest\n",
    "\n",
    "# gets the position of the last black box in a given row\n",
    "def findMaximumRow(boardRow, j):\n",
    "    largest = N\n",
    "    for i in reversed(range(N)):\n",
    "        if boardRow[i] != 0 and j < i:\n",
    "            largest = i\n",
    "\n",
    "    return largest\n",
    "\n",
    "\n",
    "def addSmallestRowConstraint(board, i, j):\n",
    "    availableBulb = [] #list to register the positions for possible lights\n",
    "\n",
    "    # First travel in the rows \n",
    "    firstBlackBoxinRow = findSmallestRow(board[i], j)\n",
    "    lastBlackBoxRow = findMaximumRow(board[i], j)\n",
    "    \n",
    "     # If its not in the list, add it to the list\n",
    "    for columnIndex in range(firstBlackBoxinRow + 1, lastBlackBoxRow):\n",
    "        if \"x%i%s\" % (i, columnIndex) not in availableBulb:\n",
    "            availableBulb.append(\"x%i%s\" % (i, columnIndex))\n",
    "\n",
    "    # Run the same algorithm on the transposed board (to get it in the columns now)\n",
    "    transposeBoard = board.transpose()\n",
    "\n",
    "    # Second travel in the columns\n",
    "    firstBlackBoxinRow = findSmallestRow(transposeBoard[j], i)\n",
    "    lastBlackBoxRow = findMaximumRow(transposeBoard[j], i)\n",
    "\n",
    "    # If its not in the list, add it to the list\n",
    "    for columnIndex in range(firstBlackBoxinRow + 1, lastBlackBoxRow):\n",
    "        if \"x%i%s\" % (columnIndex, j) not in availableBulb:\n",
    "            availableBulb.append(\"x%i%s\" % (columnIndex, j))\n",
    "\n",
    "    # Add constraint\n",
    "    problem.addConstraint(MinSumConstraint(1), availableBulb)"
   ]
  },
  {
   "cell_type": "markdown",
   "metadata": {},
   "source": [
    "## Parte principal "
   ]
  },
  {
   "cell_type": "code",
   "execution_count": 8,
   "metadata": {},
   "outputs": [
    {
     "name": "stdout",
     "output_type": "stream",
     "text": [
      "[{'x24': 0, 'x42': 0, 'x44': 0, 'x15': 0, 'x00': 0, 'x06': 0, 'x22': 0, 'x23': 0, 'x32': 1, 'x34': 1, 'x43': 1, 'x60': 1, 'x66': 0, 'x40': 0, 'x50': 0, 'x61': 0, 'x01': 0, 'x04': 0, 'x05': 1, 'x10': 1, 'x16': 1, 'x51': 1, 'x55': 1, 'x56': 0, 'x65': 0, 'x11': 0, 'x20': 0, 'x26': 0, 'x31': 0, 'x35': 0, 'x62': 0, 'x02': 1, 'x13': 1, 'x46': 1, 'x64': 1, 'x53': 0}]\n"
     ]
    }
   ],
   "source": [
    "# Initiliaze lights\n",
    "    # Lights are initially all the boxes with 0 value\n",
    "for i in range(N):\n",
    "    for j in range(N):\n",
    "        if board[i][j] == 0:\n",
    "            problem.addVariable(\"x%i%s\" % (i, j), [0, 1])\n",
    "\n",
    "# CONSTRAINT 1: Set contraints for lights around black boxes, which means searching for black boxes that are filled with a number\n",
    "# The constraint here is that the number of lights surrounding that numbered black cell has to be the number given by the black box\n",
    "# This constraint uses \"ExactSumConstraint\" form constraint moodule\n",
    "addNumberedBlackBoxAConstraint(board)\n",
    "\n",
    "# CONSTRAINT 2: Set constraints for white cells between 2 black cells\n",
    "# The constraint here is that the semi-row or the semi-column formed by the white cells blocked by black cells on both sides (up-down or left-right) should have 0 or 1 lights, not more\n",
    "# This constraint uses \"MaxSumConstraint\" form constraint moodule\n",
    "addBlockContraint(board)\n",
    "\n",
    "# CONSTRAINT 3: Set contraints for white cells in the middle of the board\n",
    "# The constraint here is that the white cells not directly limited by black boxes should have 1 or more lights\n",
    "# This constraint uses \"MinSumConstraint\" form constraint moodule\n",
    "addEachBoxAConstraint(board)\n",
    "\n",
    "# Running to find solutions within the restrictions given\n",
    "solution = problem.getSolutions()\n",
    "print(solution)"
   ]
  },
  {
   "cell_type": "code",
   "execution_count": 62,
   "metadata": {},
   "outputs": [],
   "source": [
    "filter_dict_light = dict(filter(lambda x: x[1] == 1, solution[0].items()))\n",
    "light_positions = list(filter_dict_light.keys())\n",
    "\n",
    "def transform_position_to_tuple(x: str):\n",
    "    list_chars = list(x)\n",
    "    #print(list_chars)\n",
    "    #print(int(list_chars[1]))\n",
    "    return (int(list_chars[1]), int(list_chars[2]))\n",
    "\n",
    "light_positions_tuple = list(map(transform_position_to_tuple, light_positions))"
   ]
  },
  {
   "cell_type": "code",
   "execution_count": 63,
   "metadata": {},
   "outputs": [],
   "source": [
    "for tup in light_positions_tuple:\n",
    "    board[tup] = 1"
   ]
  },
  {
   "cell_type": "markdown",
   "metadata": {},
   "source": [
    "### Solution for Board 1\n",
    "- 0 means white cell without light \n",
    "- 1 means white cell with light\n",
    "\n",
    "[{'x00': 0, 'x06': 0, 'x60': 0, 'x66': 0, 'x02': 0, 'x26': 0, 'x40': 0, 'x64': 0, 'x22': 1, 'x24': 0, 'x42': 0, 'x05': 0, 'x10': 1, 'x44': 0, 'x56': 0, 'x61': 0, 'x12': 0, 'x23': 0, 'x25': 0, 'x32': 0, 'x34': 0, 'x41': 0, 'x50': 0, 'x01': 0, 'x16': 0, 'x43': 1, 'x54': 1, 'x65': 0, 'x03': 0, 'x20': 0, 'x30': 0, 'x36': 0, 'x04': 1, 'x63': 1, 'x62': 0, 'x46': 1, 'x11': 0, 'x33': 0, 'x15': 1, 'x55': 0, 'x51': 1}]"
   ]
  },
  {
   "cell_type": "markdown",
   "metadata": {},
   "source": [
    "### Solution for Board 2\n",
    "- 0 means white cell without light \n",
    "- 1 means white cell with light\n",
    "\n",
    "[{'x22': 0, 'x42': 1, 'x12': 0, 'x25': 0, 'x32': 0, 'x41': 0, 'x43': 0, 'x44': 0, 'x23': 0, 'x24': 0, 'x34': 1, 'x51': 0, 'x53': 0, 'x54': 0, 'x31': 1, 'x03': 0, 'x30': 0, 'x35': 0, 'x36': 0, 'x11': 0, 'x13': 1, 'x55': 1, 'x01': 0, 'x16': 0, 'x15': 1, 'x50': 1, 'x63': 1, 'x62': 0, 'x65': 0, 'x60': 0, 'x20': 1, 'x46': 1, 'x66': 1, 'x00': 1, 'x04': 1, 'x06': 1}]"
   ]
  },
  {
   "cell_type": "markdown",
   "metadata": {},
   "source": [
    "### Solution for Board 3\n",
    "- 0 means white cell without light \n",
    "- 1 means white cell with light\n",
    "\n",
    "[{'x24': 0, 'x42': 0, 'x44': 0, 'x15': 0, 'x00': 0, 'x06': 0, 'x22': 0, 'x23': 0, 'x32': 1, 'x34': 1, 'x43': 1, 'x60': 1, 'x66': 0, 'x40': 0, 'x50': 0, 'x61': 0, 'x01': 0, 'x04': 0, 'x05': 1, 'x10': 1, 'x16': 1, 'x51': 1, 'x55': 1, 'x56': 0, 'x65': 0, 'x11': 0, 'x20': 0, 'x26': 0, 'x31': 0, 'x35': 0, 'x62': 0, 'x02': 1, 'x13': 1, 'x46': 1, 'x64': 1, 'x53': 0}]"
   ]
  },
  {
   "cell_type": "markdown",
   "metadata": {},
   "source": [
    "Drawing:"
   ]
  },
  {
   "cell_type": "code",
   "execution_count": 75,
   "metadata": {},
   "outputs": [
    {
     "data": {
      "text/plain": [
       "<matplotlib.colorbar.Colorbar at 0x7f3cdb523130>"
      ]
     },
     "execution_count": 75,
     "metadata": {},
     "output_type": "execute_result"
    },
    {
     "data": {
      "image/png": "[encoded data removed]",
      "text/plain": [
       "<Figure size 640x480 with 2 Axes>"
      ]
     },
     "metadata": {},
     "output_type": "display_data"
    }
   ],
   "source": [
    "fig = plt.figure()\n",
    "ax = fig.add_subplot(111)\n",
    "\n",
    "colourmap = ListedColormap([\"white\", \"yellow\", \"0.5\", \"0.6\", \"0\", \"0\", \"0.2\", \"0.3\"])\n",
    "\n",
    "img = ax.imshow(board, aspect='auto', interpolation='nearest', cmap=colourmap)\n",
    "fig.colorbar(img)"
   ]
  },
  {
   "cell_type": "markdown",
   "metadata": {},
   "source": [
    "## Questão 3"
   ]
  },
  {
   "cell_type": "markdown",
   "metadata": {},
   "source": [
    "A função que queremos maximizar é $f(x, y) = 4 e^{-(x-1)^2 - (y-1)^2} + e^{-(x-3)^2 -(y-3)^2} + e^{-(x-3)^2 -(y+3)^2} + e^{-(x+3)^2 -(y-3)^2} + e^{-(x+3)^2 -(y+3)^2}$. Podemos utilizar um algoritmo de minimização utilizando como função de custo $g(x, y) = -f(x, y)$."
   ]
  },
  {
   "cell_type": "code",
   "execution_count": 13,
   "metadata": {},
   "outputs": [],
   "source": [
    "cost_function = lambda x, y: -4 * np.exp(-x**2 - y**2 + 2*x + 2*y - 2) - np.exp(-(x-3)**2 - (y-3)**2) - np.exp(-(x+3)**2 - (y-3)**2) - np.exp(-(x-3)**2 - (y+3)**2) - np.exp(-(x+3)**2 - (y+3)**2)"
   ]
  },
  {
   "cell_type": "markdown",
   "metadata": {},
   "source": [
    "Algoritmo de minimização *simulated annealing*. $\\epsilon$ é um limiar para o algoritmo parar antes do fim"
   ]
  },
  {
   "cell_type": "code",
   "execution_count": 26,
   "metadata": {},
   "outputs": [],
   "source": [
    "def simulated_annealing(cost_function: Callable, temperature_schedule: Callable, random_neighbour: Callable, theta0: np.ndarray, max_iter: int):\n",
    "    theta = theta0\n",
    "    history = [theta0]\n",
    "\n",
    "    for i in range(max_iter):\n",
    "        temp = temperature_schedule(i)\n",
    "        if temp < 0.:\n",
    "            return theta, history\n",
    "        neighbour = random_neighbour(theta)\n",
    "        delta_e = cost_function(*theta) - cost_function(*neighbour)\n",
    "        if delta_e >= 0.:\n",
    "            theta = neighbour\n",
    "            history.append(theta)\n",
    "        else:\n",
    "            r = random.uniform(0, 1)\n",
    "            if r < exp(delta_e/temp):\n",
    "                theta = neighbour\n",
    "                history.append(theta)\n",
    "\n",
    "    return theta, history"
   ]
  },
  {
   "cell_type": "markdown",
   "metadata": {},
   "source": [
    "Setando alguns hiperparâmetros e funções necessárias, como o *schedule* de temperatura e a seleção de vizinho aleatório"
   ]
  },
  {
   "cell_type": "code",
   "execution_count": 15,
   "metadata": {},
   "outputs": [],
   "source": [
    "# hyperparams from constants.py and functions defined here\n",
    "\n",
    "temperature = lambda i: TEMPERATURE0/(1 + BETA*(i**2))\n",
    "\n",
    "def random_neighbour(theta):\n",
    "    angle = random.uniform(-np.pi, np.pi)\n",
    "    neighbour = theta + np.array([RADIUS * cos(angle), RADIUS * sin(angle)])\n",
    "    return neighbour"
   ]
  },
  {
   "cell_type": "markdown",
   "metadata": {},
   "source": [
    "Para máximo de 5000 iterações"
   ]
  },
  {
   "cell_type": "code",
   "execution_count": 27,
   "metadata": {},
   "outputs": [],
   "source": [
    "theta, history = simulated_annealing(cost_function, temperature, random_neighbour, np.array([0., 0.]), 5000)"
   ]
  },
  {
   "cell_type": "code",
   "execution_count": 17,
   "metadata": {},
   "outputs": [
    {
     "data": {
      "text/plain": [
       "1156"
      ]
     },
     "execution_count": 17,
     "metadata": {},
     "output_type": "execute_result"
    }
   ],
   "source": [
    "len(history)"
   ]
  },
  {
   "cell_type": "code",
   "execution_count": 28,
   "metadata": {},
   "outputs": [
    {
     "data": {
      "text/plain": [
       "array([0.99946689, 1.00075572])"
      ]
     },
     "execution_count": 28,
     "metadata": {},
     "output_type": "execute_result"
    }
   ],
   "source": [
    "theta"
   ]
  },
  {
   "cell_type": "markdown",
   "metadata": {},
   "source": [
    "O máximo será então:"
   ]
  },
  {
   "cell_type": "code",
   "execution_count": 30,
   "metadata": {},
   "outputs": [
    {
     "data": {
      "text/plain": [
       "4.000332344045204"
      ]
     },
     "execution_count": 30,
     "metadata": {},
     "output_type": "execute_result"
    }
   ],
   "source": [
    "-cost_function(*theta)"
   ]
  },
  {
   "cell_type": "markdown",
   "metadata": {},
   "source": [
    "Plotando:"
   ]
  },
  {
   "cell_type": "code",
   "execution_count": 32,
   "metadata": {},
   "outputs": [],
   "source": [
    "f = lambda x, y: -cost_function(x, y)\n",
    "\n",
    "x = np.linspace(-5, 5, 100)\n",
    "y = np.linspace(-5, 5, 100)\n",
    "X, Y = np.meshgrid(x, y)\n",
    "Z = f(X, Y)"
   ]
  },
  {
   "cell_type": "code",
   "execution_count": 36,
   "metadata": {},
   "outputs": [
    {
     "data": {
      "text/plain": [
       "<matplotlib.colorbar.Colorbar at 0x7f1634e9e500>"
      ]
     },
     "execution_count": 36,
     "metadata": {},
     "output_type": "execute_result"
    },
    {
     "data": {
      "image/png": "[encoded data removed]",
      "text/plain": [
       "<Figure size 640x480 with 2 Axes>"
      ]
     },
     "metadata": {},
     "output_type": "display_data"
    }
   ],
   "source": [
    "from mpl_toolkits import mplot3d\n",
    "from matplotlib import cm\n",
    "fig = plt.figure()\n",
    "ax = plt.axes(projection=\"3d\")\n",
    "surf = ax.plot_surface(X, Y, Z, cmap=cm.coolwarm)\n",
    "ax.set_xlabel(\"x\")\n",
    "ax.set_ylabel(\"y\")\n",
    "ax.set_zlabel(\"z\")\n",
    "fig.colorbar(surf)"
   ]
  }
 ],
 "metadata": {
  "kernelspec": {
   "display_name": "Python 3.10.4 ('cm203')",
   "language": "python",
   "name": "python3"
  },
  "language_info": {
   "codemirror_mode": {
    "name": "ipython",
    "version": 3
   },
   "file_extension": ".py",
   "mimetype": "text/x-python",
   "name": "python",
   "nbconvert_exporter": "python",
   "pygments_lexer": "ipython3",
   "version": "3.10.4"
  },
  "orig_nbformat": 4,
  "vscode": {
   "interpreter": {
    "hash": "8abbea651d271a2c68bca65b2e54710269873eb3b1cfade053b6bab38c4eb485"
   }
  }
 },
 "nbformat": 4,
 "nbformat_minor": 2
}
