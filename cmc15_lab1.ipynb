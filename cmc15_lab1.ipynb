{
 "cells": [
  {
   "cell_type": "markdown",
   "metadata": {},
   "source": [
    "# CMC-15 - Lab 1"
   ]
  },
  {
   "cell_type": "markdown",
   "metadata": {},
   "source": [
    "Importando pacotes:"
   ]
  },
  {
   "cell_type": "code",
   "execution_count": 16,
   "metadata": {},
   "outputs": [],
   "source": [
    "from constants import OBSTACLES, WIDTH, HEIGHT\n",
    "from math import sqrt, cos, sin, exp\n",
    "import random\n",
    "from typing import Tuple, Union, List, Callable\n",
    "import heapq\n",
    "import numpy as np\n",
    "import matplotlib.pyplot as plt"
   ]
  },
  {
   "cell_type": "markdown",
   "metadata": {},
   "source": [
    "## Questão 1\n",
    "\n",
    "Inicializando o mapa:"
   ]
  },
  {
   "cell_type": "code",
   "execution_count": 2,
   "metadata": {},
   "outputs": [],
   "source": [
    "table = np.ones((HEIGHT, WIDTH))"
   ]
  },
  {
   "cell_type": "code",
   "execution_count": 3,
   "metadata": {},
   "outputs": [],
   "source": [
    "table[OBSTACLES] = -1.0"
   ]
  },
  {
   "cell_type": "code",
   "execution_count": 4,
   "metadata": {},
   "outputs": [],
   "source": [
    "unaccesible_cells = table < 0.0"
   ]
  },
  {
   "cell_type": "code",
   "execution_count": 5,
   "metadata": {},
   "outputs": [],
   "source": [
    "def is_index_valid(i: int, j: int):\n",
    "    return 0 <= i < HEIGHT and 0 <= j < WIDTH\n",
    "\n",
    "def get_successors(i: int, j: int):\n",
    "    if i < 0 or j < 0:\n",
    "        raise ValueError(\"Invalid indexes\")\n",
    "    successors = []\n",
    "    for di in range(-1, 2):\n",
    "        for dj in range(-1, 2):\n",
    "            if (di != 0 and dj != 0) or (di == 0 and dj == 0):\n",
    "                continue\n",
    "            if is_index_valid(i + di, j + dj) and not unaccesible_cells[i + di, j + dj]:\n",
    "                successors.append((i + di, j + dj))\n",
    "    return successors"
   ]
  },
  {
   "cell_type": "code",
   "execution_count": 6,
   "metadata": {},
   "outputs": [],
   "source": [
    "class Node:\n",
    "    def __init__(self, i: int, j: int):\n",
    "        \"\"\"\n",
    "        Creates a node of a graph used for planning paths.\n",
    "\n",
    "        :param i: row of the node in the occupancy grid.\n",
    "        :type i: int.\n",
    "        :param j: column of the node in the occupancy grid.\n",
    "        :type j: int.\n",
    "        \"\"\"\n",
    "        self.i = i\n",
    "        self.j = j\n",
    "        self.f = np.inf\n",
    "        self.g = np.inf\n",
    "        self.closed = False\n",
    "        self.parent: Union[Node, None] = None\n",
    "\n",
    "    def get_position(self) -> Tuple[int, int]:\n",
    "        \"\"\"\n",
    "        Obtains the position of the node as a tuple.\n",
    "\n",
    "        :return: (i, j) where i is the row and the column of the node, respectively.\n",
    "        :rtype: 2-dimensional tuple of int.\n",
    "        \"\"\"\n",
    "        return self.i, self.j\n",
    "\n",
    "    def set_position(self, i, j):\n",
    "        \"\"\"\n",
    "        Sets the position of this node.\n",
    "\n",
    "        :param i: row of the node in the occupancy grid.\n",
    "        :type i: int.\n",
    "        :param j: column of the node in the occupancy grid.\n",
    "        :type j: int.\n",
    "        \"\"\"\n",
    "        self.i = i\n",
    "        self.j = j\n",
    "\n",
    "    def distance_to(self, i: int, j: int) -> float:\n",
    "        \"\"\"\n",
    "        Computes the distance from this node to the position (i, j).\n",
    "\n",
    "        :param i: row of the target position.\n",
    "        :type i: int.\n",
    "        :param j: column of the target position.\n",
    "        :type j: int.\n",
    "        :return: distance from this node to (i, j).\n",
    "        :rtype: float.\n",
    "        \"\"\"\n",
    "        return sqrt((self.i - i) ** 2 + (self.j - j) ** 2)\n",
    "\n",
    "    # for node < another_node\n",
    "    def __lt__(self, another_node):\n",
    "        return (self.i < another_node.i) or (self.j < another_node.j)"
   ]
  },
  {
   "cell_type": "code",
   "execution_count": 7,
   "metadata": {},
   "outputs": [],
   "source": [
    "node_grid = np.empty(table.shape, dtype=Node)\n",
    "for i in range(table.shape[0]):\n",
    "    for j in range(table.shape[1]):\n",
    "        node_grid[i, j] = Node(i, j)"
   ]
  },
  {
   "cell_type": "code",
   "execution_count": 8,
   "metadata": {},
   "outputs": [],
   "source": [
    "def get_edge_cost(node: Node, successor: Node) -> float:\n",
    "    return (table[node.get_position()] + table[successor.get_position()]) / 2.0\n",
    "\n",
    "def reconstruct_path(end_node: Node):\n",
    "    node = end_node\n",
    "    reversed_path = []\n",
    "    while node is not None:\n",
    "        reversed_path.append(node.get_position())\n",
    "        node = node.parent\n",
    "    return reversed_path[::-1]"
   ]
  },
  {
   "cell_type": "code",
   "execution_count": 9,
   "metadata": {},
   "outputs": [],
   "source": [
    "def a_star(start_position: Tuple[int, int], end_position: Tuple[int, int], node_grid: np.ndarray):\n",
    "    node: Node = node_grid[start_position]\n",
    "    node.g = 0\n",
    "    node.f = node.g + node.distance_to(*end_position)\n",
    "    pq: List[Tuple[float, Node]] = []\n",
    "    heapq.heappush(pq, (node.f, node))\n",
    "\n",
    "    while pq:\n",
    "        (f, node) = heapq.heappop(pq)\n",
    "        if not node.closed:\n",
    "            node.closed = True\n",
    "            \n",
    "            if end_position == node.get_position():\n",
    "                break\n",
    "            \n",
    "            for successor_t in get_successors(node.i, node.j):\n",
    "                successor: Node = node_grid[successor_t]\n",
    "                if successor.f > node.g + get_edge_cost(node, successor) + successor.distance_to(*end_position):\n",
    "                    successor.g = node.g + get_edge_cost(node, successor)\n",
    "                    successor.f = successor.g + successor.distance_to(*end_position)\n",
    "                    successor.parent = node\n",
    "                    heapq.heappush(pq, (successor.f, successor))\n",
    "\n",
    "    end_node: Node = node_grid[end_position]\n",
    "\n",
    "    return reconstruct_path(end_node), end_node.g"
   ]
  },
  {
   "cell_type": "code",
   "execution_count": 10,
   "metadata": {},
   "outputs": [],
   "source": [
    "path, g = a_star((0, 0), (20, 23), node_grid)"
   ]
  },
  {
   "cell_type": "code",
   "execution_count": 11,
   "metadata": {},
   "outputs": [],
   "source": [
    "for tup in path:\n",
    "    table[tup] += 1"
   ]
  },
  {
   "cell_type": "code",
   "execution_count": 12,
   "metadata": {},
   "outputs": [
    {
     "data": {
      "text/plain": [
       "<matplotlib.image.AxesImage at 0x7fb88c509600>"
      ]
     },
     "execution_count": 12,
     "metadata": {},
     "output_type": "execute_result"
    },
    {
     "data": {
      "image/png": "[encoded data removed]",
      "text/plain": [
       "<Figure size 640x480 with 1 Axes>"
      ]
     },
     "metadata": {},
     "output_type": "display_data"
    }
   ],
   "source": [
    "fig = plt.figure()\n",
    "ax = fig.add_subplot(111)\n",
    "\n",
    "ax.imshow(table, aspect='auto', cmap=plt.cm.gray, interpolation='nearest')"
   ]
  },
  {
   "cell_type": "markdown",
   "metadata": {},
   "source": [
    "## Questão 2"
   ]
  },
  {
   "cell_type": "markdown",
   "metadata": {},
   "source": [
    "## Questão 3"
   ]
  },
  {
   "cell_type": "code",
   "execution_count": 88,
   "metadata": {},
   "outputs": [],
   "source": [
    "cost_function = lambda x, y: -4 * np.exp(-x**2 - y**2 + 2*x + 2*y - 2) - np.exp(-(x-3)**2 - (y-3)**2) - np.exp(-(x+3)**2 - (y-3)**2) - np.exp(-(x-3)**2 - (y+3)**2) - np.exp(-(x+3)**2 - (y+3)**2)"
   ]
  },
  {
   "cell_type": "code",
   "execution_count": 90,
   "metadata": {},
   "outputs": [],
   "source": [
    "def simulated_annealing(cost_function: Callable, temperature_schedule: Callable, random_neighbour: Callable, theta0: np.ndarray, epsilon: float, max_iter: int):\n",
    "    theta = theta0\n",
    "    history = [theta0]\n",
    "\n",
    "    for i in range(max_iter):\n",
    "        temp = temperature_schedule(i)\n",
    "        if temp < 0.:\n",
    "            return theta, history\n",
    "        neighbour = random_neighbour(theta)\n",
    "        delta_e = cost_function(*theta) - cost_function(*neighbour)\n",
    "        if delta_e >= 0.:\n",
    "            theta = neighbour\n",
    "            history.append(theta)\n",
    "        else:\n",
    "            r = random.uniform(0, 1)\n",
    "            if r < exp(delta_e/temp):\n",
    "                theta = neighbour\n",
    "                history.append(theta)\n",
    "        if cost_function(*theta) > -epsilon:\n",
    "            break\n",
    "\n",
    "    return theta, history"
   ]
  },
  {
   "cell_type": "code",
   "execution_count": 18,
   "metadata": {},
   "outputs": [],
   "source": [
    "# hyperparams and helper functions\n",
    "\n",
    "DELTA = 2.0e-3\n",
    "BETA = 0.9\n",
    "TEMPERATURE0 = 1.0\n",
    "\n",
    "temperature = lambda i: TEMPERATURE0/(1 + BETA*(i**2))\n",
    "\n",
    "def random_neighbour(theta):\n",
    "    angle = random.uniform(-np.pi, np.pi)\n",
    "    neighbour = theta + np.array([DELTA * cos(angle), DELTA * sin(angle)])\n",
    "    return neighbour"
   ]
  },
  {
   "cell_type": "code",
   "execution_count": 95,
   "metadata": {},
   "outputs": [],
   "source": [
    "theta, history = simulated_annealing(cost_function, temperature, random_neighbour, np.array([0., 0.]), 1.0e-10, 5000)"
   ]
  },
  {
   "cell_type": "code",
   "execution_count": 96,
   "metadata": {},
   "outputs": [
    {
     "data": {
      "text/plain": [
       "1126"
      ]
     },
     "execution_count": 96,
     "metadata": {},
     "output_type": "execute_result"
    }
   ],
   "source": [
    "len(history)"
   ]
  },
  {
   "cell_type": "code",
   "execution_count": 97,
   "metadata": {},
   "outputs": [
    {
     "data": {
      "text/plain": [
       "-4.000334328580423"
      ]
     },
     "execution_count": 97,
     "metadata": {},
     "output_type": "execute_result"
    }
   ],
   "source": [
    "cost_function(*theta)"
   ]
  },
  {
   "cell_type": "code",
   "execution_count": 94,
   "metadata": {},
   "outputs": [
    {
     "data": {
      "text/plain": [
       "array([1.00030594, 1.00045801])"
      ]
     },
     "execution_count": 94,
     "metadata": {},
     "output_type": "execute_result"
    }
   ],
   "source": [
    "theta"
   ]
  }
 ],
 "metadata": {
  "kernelspec": {
   "display_name": "Python 3.10.4 ('cm203')",
   "language": "python",
   "name": "python3"
  },
  "language_info": {
   "codemirror_mode": {
    "name": "ipython",
    "version": 3
   },
   "file_extension": ".py",
   "mimetype": "text/x-python",
   "name": "python",
   "nbconvert_exporter": "python",
   "pygments_lexer": "ipython3",
   "version": "3.10.4"
  },
  "orig_nbformat": 4,
  "vscode": {
   "interpreter": {
    "hash": "8abbea651d271a2c68bca65b2e54710269873eb3b1cfade053b6bab38c4eb485"
   }
  }
 },
 "nbformat": 4,
 "nbformat_minor": 2
}
